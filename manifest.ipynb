{
 "cells": [
  {
   "cell_type": "code",
   "execution_count": 1,
   "metadata": {},
   "outputs": [],
   "source": [
    "import os\n",
    "import sys\n",
    "import json\n",
    "import hashlib\n",
    "import requests\n"
   ]
  },
  {
   "cell_type": "code",
   "execution_count": null,
   "metadata": {},
   "outputs": [
    {
     "name": "stdout",
     "output_type": "stream",
     "text": [
      "{'sha512': 'placeholder_hash', 'filename': 'tropical_cyclones', 'url': 'https://web.corral.tacc.utexas.edu/setxuifl/tropical_cyclones/', 'length': 0, 'type': 'Directory'}\n",
      "{'sha512': 'placeholder_hash', 'filename': 'tceq_air_monitor_obs_20240528.zip', 'url': 'https://web.corral.tacc.utexas.edu/setxuifl/tceq_air_monitor_obs_20240528.zip', 'length': 44983910, 'type': 'application/zip'}\n",
      "{'sha512': 'placeholder_hash', 'filename': 'test.txt', 'url': 'https://web.corral.tacc.utexas.edu/setxuifl/test.txt', 'length': 0, 'type': 'text/plain'}\n"
     ]
    }
   ],
   "source": [
    "base_url = \"https://web.corral.tacc.utexas.edu/setxuifl/\"\n",
    "from bs4 import BeautifulSoup\n",
    "import urllib.parse\n",
    "\n",
    "def get_files_from_url(base_url, create_submanifests=True):\n",
    "    files = []\n",
    "    response = requests.get(base_url)\n",
    "    soup = BeautifulSoup(response.text, 'html.parser')\n",
    "\n",
    "    for row in soup.find_all('tr'):\n",
    "        cols = row.find_all('td')\n",
    "        if len(cols) >= 4:\n",
    "            filename = cols[0].find('a')\n",
    "            if filename and filename.text not in ['..']:\n",
    "                file_type = cols[3].text.strip()\n",
    "                full_url = urllib.parse.urljoin(base_url, filename['href'])\n",
    "                \n",
    "                if file_type == 'Directory':\n",
    "                    if create_submanifests:\n",
    "                        subdir_files = get_files_from_url(full_url)\n",
    "                        subdir_path = os.path.join(\".\", filename.text)\n",
    "                        with open(os.path.join('manifests/',f\"{subdir_path}-manifest.json\"), \"w\") as f:\n",
    "                            json.dump(subdir_files, f, indent=4)\n",
    "                    length = 0\n",
    "                else:\n",
    "                    size = cols[2].text.strip()\n",
    "                    if 'M' in size:\n",
    "                        length = int(float(size.replace('M', '')) * 1024 * 1024)\n",
    "                    elif 'K' in size:\n",
    "                        length = int(float(size.replace('K', '')) * 1024)\n",
    "                    else:\n",
    "                        length = 0\n",
    "\n",
    "                files.append({\n",
    "                    \"sha512\": \"placeholder_hash\",\n",
    "                    \"filename\": filename.text,\n",
    "                    \"url\": full_url,\n",
    "                    \"length\": length,\n",
    "                    \"type\": file_type\n",
    "                })\n",
    "    return files\n",
    "\n",
    "\n",
    "# Example usage\n",
    "file_list = get_files_from_url(base_url)\n",
    "for file in file_list:\n",
    "    print(file)\n",
    "with open(os.path.join(\"./manifests/\", \"manifest.json\"), \"w\") as f:\n",
    "    json.dump(file_list, f, indent=4)\n"
   ]
  },
  {
   "cell_type": "code",
   "execution_count": null,
   "metadata": {},
   "outputs": [],
   "source": []
  },
  {
   "cell_type": "code",
   "execution_count": null,
   "metadata": {},
   "outputs": [],
   "source": [
    "%%file metadata.toml\n",
    "# {dset} will be replaced with the dataset name\n",
    "title=\"Dataset - SETx-UIFL Datasets {dset}\"\n",
    "author=\"Will Mobley\"\n",
    "description=\"a series of datasets for  {dset} component\"\n",
    "date_created=\"2024-11-8\""
   ]
  }
 ],
 "metadata": {
  "kernelspec": {
   "display_name": "base",
   "language": "python",
   "name": "python3"
  },
  "language_info": {
   "codemirror_mode": {
    "name": "ipython",
    "version": 3
   },
   "file_extension": ".py",
   "mimetype": "text/x-python",
   "name": "python",
   "nbconvert_exporter": "python",
   "pygments_lexer": "ipython3",
   "version": "3.9.18"
  }
 },
 "nbformat": 4,
 "nbformat_minor": 2
}
