{
 "cells": [
  {
   "cell_type": "code",
   "execution_count": 1,
   "metadata": {},
   "outputs": [],
   "source": [
    "import os\n",
    "import sys\n",
    "import json\n",
    "import hashlib\n",
    "import requests\n"
   ]
  },
  {
   "cell_type": "code",
   "execution_count": 13,
   "metadata": {},
   "outputs": [
    {
     "name": "stdout",
     "output_type": "stream",
     "text": [
      "{'sha512': 'd8a1b8ec314b15819c596d3cd19d27e51176134acde7595d1b6bb51a25a6d2a01c18280e8df12a155e8a7a2d4a3914104526159991591724ecbc0363e501306c', 'filename': '', 'url': 'https://web.corral.tacc.utexas.edu/setxuifl/tropical_cyclones/', 'length': 6615}\n",
      "{'sha512': 'd8a1b8ec314b15819c596d3cd19d27e51176134acde7595d1b6bb51a25a6d2a01c18280e8df12a155e8a7a2d4a3914104526159991591724ecbc0363e501306c', 'filename': 'tceq_air_monitor_obs_20240528.zip', 'url': 'https://web.corral.tacc.utexas.edu/setxuifl/tceq_air_monitor_obs_20240528.zip', 'length': 6615}\n",
      "{'sha512': 'd8a1b8ec314b15819c596d3cd19d27e51176134acde7595d1b6bb51a25a6d2a01c18280e8df12a155e8a7a2d4a3914104526159991591724ecbc0363e501306c', 'filename': 'test.txt', 'url': 'https://web.corral.tacc.utexas.edu/setxuifl/test.txt', 'length': 6615}\n"
     ]
    }
   ],
   "source": [
    "base_url = \"https://web.corral.tacc.utexas.edu/setxuifl/\"\n",
    "from bs4 import BeautifulSoup\n",
    "import urllib.parse\n",
    "\n",
    "def get_files_from_url(base_url):\n",
    "    files = []\n",
    "    response = requests.get(base_url)\n",
    "    soup = BeautifulSoup(response.text, 'html.parser')\n",
    "    BUFFER = 4 * 1073741824\n",
    "\n",
    "    # Find all links in the page\n",
    "    for link in soup.find_all('a'):\n",
    "        href = link.get('href')\n",
    "        if href:\n",
    "            # Create absolute URL if relative\n",
    "            full_url = urllib.parse.urljoin(base_url, href)\n",
    "            # Skip parent directory links\n",
    "            if href not in ['../', '../', '/', '#']:\n",
    "                sha512 = hashlib.sha512()\n",
    "                length = 0\n",
    "                \n",
    "                for chunk in response.iter_content(chunk_size=BUFFER):\n",
    "                    if chunk:\n",
    "                        length += len(chunk)\n",
    "                        sha512.update(chunk)\n",
    "                \n",
    "                files.append({\n",
    "                    \"sha512\": sha512.hexdigest(),\n",
    "                    \"filename\":full_url.split('/')[-1],\n",
    "                    \"url\": full_url,\n",
    "                    \"length\": length,\n",
    "                })\n",
    "    return files\n",
    "\n",
    "# Example usage\n",
    "file_list = get_files_from_url(base_url)\n",
    "for file in file_list:\n",
    "    print(file)\n"
   ]
  },
  {
   "cell_type": "code",
   "execution_count": 15,
   "metadata": {},
   "outputs": [],
   "source": [
    "with open(os.path.join(\".\", \"manifest.json\"), \"w\") as f:\n",
    "    json.dump(file_list, f, indent=4)\n"
   ]
  },
  {
   "cell_type": "code",
   "execution_count": null,
   "metadata": {},
   "outputs": [],
   "source": [
    "%%file metadata.toml\n",
    "# {dset} will be replaced with the dataset name\n",
    "title=\"Dataset - SETx-UIFL Datasets {dset}\"\n",
    "author=\"Will Mobley\"\n",
    "description=\"a series of datasets for  {dset} component\"\n",
    "date_created=\"2024-11-8\""
   ]
  }
 ],
 "metadata": {
  "kernelspec": {
   "display_name": "base",
   "language": "python",
   "name": "python3"
  },
  "language_info": {
   "codemirror_mode": {
    "name": "ipython",
    "version": 3
   },
   "file_extension": ".py",
   "mimetype": "text/x-python",
   "name": "python",
   "nbconvert_exporter": "python",
   "pygments_lexer": "ipython3",
   "version": "3.9.18"
  }
 },
 "nbformat": 4,
 "nbformat_minor": 2
}
